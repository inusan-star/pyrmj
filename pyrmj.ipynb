{
 "cells": [
  {
   "cell_type": "code",
   "execution_count": null,
   "metadata": {},
   "outputs": [],
   "source": [
    "import matplotlib.pyplot as plt\n",
    "from pyrmj import Game, RandomAgent, ShantenAgent, rule\n",
    "\n",
    "game = Game(rule({\n",
    "    \"場数\": 0,\n",
    "    \"連荘方式\": 0,\n",
    "    \"トビ終了あり\": False,\n",
    "    \"延長戦方式\": 0,\n",
    "    \"一局戦連荘なし\": True\n",
    "}))\n",
    "\n",
    "agents = [ShantenAgent(), RandomAgent(), RandomAgent(), RandomAgent()]\n",
    "episode_rewards = {player_id: [] for player_id in range(4)}\n",
    "\n",
    "for episode in range(100):\n",
    "    if episode % 10 == 0:\n",
    "        print(f'Episode {episode}')\n",
    "\n",
    "    observation = game.reset(chiicha=episode % 4, save_flag=False)\n",
    "\n",
    "    while not game.done():\n",
    "        actions = {\n",
    "            player_id: agents[player_id].action(obs)\n",
    "            for player_id, obs in observation.items()\n",
    "        }\n",
    "        observation = game.step(actions)\n",
    "\n",
    "    rewards = game.reward()\n",
    "\n",
    "    for player_id, reward in rewards.items():\n",
    "        episode_rewards[player_id].append(reward)\n",
    "\n",
    "cumulative_rewards = {player_id: [] for player_id in range(4)}\n",
    "\n",
    "for player_id in range(4):\n",
    "    total = 0\n",
    "\n",
    "    for reward in episode_rewards[player_id]:\n",
    "        total += reward\n",
    "        cumulative_rewards[player_id].append(total)\n",
    "\n",
    "for player_id, rewards in cumulative_rewards.items():\n",
    "    plt.plot(rewards, label=f'Player {player_id}')\n",
    "\n",
    "plt.xlabel('Episode')\n",
    "plt.ylabel('Cumulative Reward')\n",
    "plt.title('Cumulative Rewards per Episode')\n",
    "plt.legend()\n",
    "plt.show()"
   ]
  }
 ],
 "metadata": {
  "kernelspec": {
   "display_name": "pyrmj",
   "language": "python",
   "name": "python3"
  },
  "language_info": {
   "codemirror_mode": {
    "name": "ipython",
    "version": 3
   },
   "file_extension": ".py",
   "mimetype": "text/x-python",
   "name": "python",
   "nbconvert_exporter": "python",
   "pygments_lexer": "ipython3",
   "version": "3.12.4"
  }
 },
 "nbformat": 4,
 "nbformat_minor": 2
}
