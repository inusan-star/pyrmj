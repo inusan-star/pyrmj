{
 "cells": [
  {
   "cell_type": "code",
   "execution_count": null,
   "metadata": {},
   "outputs": [],
   "source": []
  },
  {
   "cell_type": "code",
   "execution_count": 26,
   "metadata": {},
   "outputs": [],
   "source": [
    "from pyrmj import Game, rule\n",
    "\n",
    "game = Game(rule({\"場数\": 1, \"連荘方式\": 0, \"トビ終了あり\": False, \"延長戦方式\": 0}))\n",
    "observation = game.reset(chiicha=None, save_flag=False)\n",
    "\n",
    "while not game.done():\n",
    "    actions = {0: {}, 1: {}, 2: {}, 3: {}}\n",
    "    observation = game.step(actions)\n"
   ]
  }
 ],
 "metadata": {
  "kernelspec": {
   "display_name": "pyrmj",
   "language": "python",
   "name": "python3"
  },
  "language_info": {
   "codemirror_mode": {
    "name": "ipython",
    "version": 3
   },
   "file_extension": ".py",
   "mimetype": "text/x-python",
   "name": "python",
   "nbconvert_exporter": "python",
   "pygments_lexer": "ipython3",
   "version": "3.12.4"
  }
 },
 "nbformat": 4,
 "nbformat_minor": 2
}
